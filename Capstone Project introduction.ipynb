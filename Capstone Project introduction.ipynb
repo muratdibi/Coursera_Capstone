{
 "cells": [
  {
   "cell_type": "markdown",
   "metadata": {},
   "source": [
    "# Introduction and Background\n"
   ]
  },
  {
   "cell_type": "markdown",
   "metadata": {},
   "source": [
    "The City of New York, is the most crowded and popular US. It is a harmony of cultures and cousines. Opening a new business\n",
    "can be a good oppurtinity in New York. However it is also risky because of the compatitive market and high operating costs.\n",
    "Making right choices take the most important factor. Selecting the right place for the business is going to be helpful to increase chances of being sucsessful. \n"
   ]
  },
  {
   "cell_type": "markdown",
   "metadata": {},
   "source": [
    "## Business problem\n"
   ]
  },
  {
   "cell_type": "markdown",
   "metadata": {},
   "source": [
    "An investor wants to open a new business in Manhattan, the budget for this business is limited. This business will focus on restaurant supplies and food for Mediterrian restaurants. I will help my client to analyze the provided data and help him to find the best place for this business. \n",
    "Planning before investment will be crutial. This place should be close to the majority of the target restaurants.\n"
   ]
  },
  {
   "cell_type": "markdown",
   "metadata": {},
   "source": [
    "### Target Audience: "
   ]
  },
  {
   "cell_type": "markdown",
   "metadata": {},
   "source": [
    "This project will be helpful anyone interested in opening restaurant business in Manhattan.\n"
   ]
  },
  {
   "cell_type": "code",
   "execution_count": null,
   "metadata": {},
   "outputs": [],
   "source": []
  }
 ],
 "metadata": {
  "kernelspec": {
   "display_name": "Python 3",
   "language": "python",
   "name": "python3"
  },
  "language_info": {
   "codemirror_mode": {
    "name": "ipython",
    "version": 3
   },
   "file_extension": ".py",
   "mimetype": "text/x-python",
   "name": "python",
   "nbconvert_exporter": "python",
   "pygments_lexer": "ipython3",
   "version": "3.7.6"
  }
 },
 "nbformat": 4,
 "nbformat_minor": 2
}
